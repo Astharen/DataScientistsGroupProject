{
 "cells": [
  {
   "cell_type": "code",
   "execution_count": 1,
   "id": "2a84c203",
   "metadata": {},
   "outputs": [],
   "source": [
    "import xgboost as xgb\n",
    "from sklearn.model_selection import RepeatedStratifiedKFold\n",
    "from sklearn.model_selection import cross_val_score\n",
    "import pandas as pd\n",
    "import os\n",
    "import numpy as np\n",
    "from sklearn.model_selection import train_test_split\n",
    "from sklearn.metrics import accuracy_score\n",
    "from sklearn.metrics import confusion_matrix\n",
    "import sklearn"
   ]
  },
  {
   "cell_type": "code",
   "execution_count": 2,
   "id": "e011ffd8",
   "metadata": {},
   "outputs": [],
   "source": [
    "data_s = pd.read_csv(f\"{os.path.dirname(os.path.abspath(''))}/bank-additional/filtered_data_scaled.csv\", sep=\",\")\n",
    "data = pd.read_csv(f\"{os.path.dirname(os.path.abspath(''))}/bank-additional/filtered_data.csv\", sep=\",\")"
   ]
  },
  {
   "cell_type": "code",
   "execution_count": 3,
   "id": "f797a8fd",
   "metadata": {},
   "outputs": [],
   "source": [
    "X = data_s.loc[:, data_s.columns!='y_yes']\n",
    "y = data_s.loc[:, 'y_yes']"
   ]
  },
  {
   "cell_type": "code",
   "execution_count": 4,
   "id": "89e9d5ab",
   "metadata": {},
   "outputs": [],
   "source": [
    "X_train, X_test, y_train, y_test = train_test_split(X, y, test_size=0.2, random_state=42)"
   ]
  },
  {
   "cell_type": "code",
   "execution_count": 5,
   "id": "0aa46e52",
   "metadata": {},
   "outputs": [
    {
     "data": {
      "text/plain": [
       "0.0    36548\n",
       "1.0     4640\n",
       "Name: y_yes, dtype: int64"
      ]
     },
     "execution_count": 5,
     "metadata": {},
     "output_type": "execute_result"
    }
   ],
   "source": [
    "imbalance_rate = y.value_counts()[0]/y.value_counts()[1]\n",
    "y.value_counts()"
   ]
  },
  {
   "cell_type": "code",
   "execution_count": 6,
   "id": "237f5d05",
   "metadata": {},
   "outputs": [],
   "source": [
    "# sklearn.metrics.SCORERS.keys()"
   ]
  },
  {
   "cell_type": "code",
   "execution_count": 8,
   "id": "db570644",
   "metadata": {},
   "outputs": [
    {
     "name": "stdout",
     "output_type": "stream",
     "text": [
      "Mean f1: 0.25047\n",
      "Mean f1: 0.36000\n",
      "Mean f1: 0.41828\n",
      "Mean f1: 0.44755\n",
      "Mean f1: 0.46704\n",
      "Mean f1: 0.47182\n",
      "Mean f1: 0.47602\n",
      "Mean f1: 0.47730\n",
      "Mean f1: 0.47781\n",
      "Mean f1: 0.47640\n",
      "Mean f1: 0.47243\n",
      "Mean f1: 0.46978\n",
      "Mean f1: 0.46464\n",
      "Mean f1: 0.45664\n",
      "Mean f1: 0.45199\n",
      "Mean f1: 0.44627\n",
      "Mean f1: 0.43672\n",
      "Mean f1: 0.43259\n",
      "Mean f1: 0.42325\n",
      "Mean f1: 0.41931\n",
      "Mean f1: 0.40815\n",
      "Mean f1: 0.39921\n",
      "Mean f1: 0.39189\n",
      "Mean f1: 0.38289\n",
      "Mean f1: 0.37440\n",
      "Mean f1: 0.36683\n",
      "Mean f1: 0.36019\n",
      "Mean f1: 0.35281\n",
      "Mean f1: 0.34477\n",
      "Mean f1: 0.33725\n",
      "Mean f1: 0.33154\n"
     ]
    }
   ],
   "source": [
    "scores_list = []\n",
    "metric = 'f1'\n",
    "weight_array = np.arange(imbalance_rate - 7.5, imbalance_rate + 7.6, 0.5)\n",
    "for weight in weight_array:\n",
    "    model = xgb.XGBClassifier(scale_pos_weight=weight)\n",
    "    cv = RepeatedStratifiedKFold(n_splits=10, n_repeats=3, random_state=1)\n",
    "    scores = cross_val_score(model, X_train, y_train, scoring=metric, cv=cv, n_jobs=-1)\n",
    "    print(f'Mean {metric}: %.5f' % np.mean(scores))\n",
    "    scores_list.append(np.mean(scores))"
   ]
  },
  {
   "cell_type": "code",
   "execution_count": 9,
   "id": "3b86ef68",
   "metadata": {},
   "outputs": [
    {
     "data": {
      "text/plain": [
       "4.376724137931035"
      ]
     },
     "execution_count": 9,
     "metadata": {},
     "output_type": "execute_result"
    }
   ],
   "source": [
    "weight_array[np.argmax(scores_list)]"
   ]
  },
  {
   "cell_type": "code",
   "execution_count": 10,
   "id": "84666ade",
   "metadata": {},
   "outputs": [],
   "source": [
    "model = xgb.XGBClassifier(scale_pos_weight=weight_array[np.argmax(scores_list)])"
   ]
  },
  {
   "cell_type": "code",
   "execution_count": 11,
   "id": "e4f8f8d2",
   "metadata": {
    "scrolled": false
   },
   "outputs": [
    {
     "name": "stdout",
     "output_type": "stream",
     "text": [
      "[02:20:16] WARNING: C:/Users/Administrator/workspace/xgboost-win64_release_1.4.0/src/learner.cc:1095: Starting in XGBoost 1.3.0, the default evaluation metric used with the objective 'binary:logistic' was changed from 'error' to 'logloss'. Explicitly set eval_metric if you'd like to restore the old behavior.\n"
     ]
    },
    {
     "name": "stderr",
     "output_type": "stream",
     "text": [
      "c:\\users\\almudena\\appdata\\local\\programs\\python\\python39\\lib\\site-packages\\xgboost\\sklearn.py:1146: UserWarning: The use of label encoder in XGBClassifier is deprecated and will be removed in a future release. To remove this warning, do the following: 1) Pass option use_label_encoder=False when constructing XGBClassifier object; and 2) Encode your labels (y) as integers starting with 0, i.e. 0, 1, 2, ..., [num_class - 1].\n",
      "  warnings.warn(label_encoder_deprecation_msg, UserWarning)\n"
     ]
    },
    {
     "data": {
      "text/plain": [
       "XGBClassifier(base_score=0.5, booster='gbtree', colsample_bylevel=1,\n",
       "              colsample_bynode=1, colsample_bytree=1, gamma=0, gpu_id=-1,\n",
       "              importance_type='gain', interaction_constraints='',\n",
       "              learning_rate=0.300000012, max_delta_step=0, max_depth=6,\n",
       "              min_child_weight=1, missing=nan, monotone_constraints='()',\n",
       "              n_estimators=100, n_jobs=12, num_parallel_tree=1, random_state=0,\n",
       "              reg_alpha=0, reg_lambda=1, scale_pos_weight=4.376724137931035,\n",
       "              subsample=1, tree_method='exact', validate_parameters=1,\n",
       "              verbosity=None)"
      ]
     },
     "execution_count": 11,
     "metadata": {},
     "output_type": "execute_result"
    }
   ],
   "source": [
    "model.fit(X_train, y_train.astype(int))"
   ]
  },
  {
   "cell_type": "code",
   "execution_count": 58,
   "id": "73ade56f",
   "metadata": {},
   "outputs": [
    {
     "data": {
      "text/plain": [
       "<AxesSubplot:title={'center':'Feature importance'}, xlabel='F score', ylabel='Features'>"
      ]
     },
     "execution_count": 58,
     "metadata": {},
     "output_type": "execute_result"
    },
    {
     "data": {
      "image/png": "[encoded data removed]",
      "text/plain": [
       "<Figure size 432x288 with 1 Axes>"
      ]
     },
     "metadata": {
      "needs_background": "light"
     },
     "output_type": "display_data"
    }
   ],
   "source": [
    "xgb.plot_importance(model)"
   ]
  },
  {
   "cell_type": "code",
   "execution_count": 57,
   "id": "3117019b",
   "metadata": {},
   "outputs": [],
   "source": [
    "predictions = model.predict(X_test)\n",
    "accuracy = accuracy_score(y_test, predictions)"
   ]
  },
  {
   "cell_type": "code",
   "execution_count": 59,
   "id": "cc5df1bc",
   "metadata": {},
   "outputs": [
    {
     "data": {
      "text/plain": [
       "(27175, 2070, 1343, 2362)"
      ]
     },
     "execution_count": 59,
     "metadata": {},
     "output_type": "execute_result"
    }
   ],
   "source": [
    "(tn, fp, fn, tp) = confusion_matrix(y_train, model.predict(X_train)).ravel()\n",
    "(tn, fp, fn, tp)"
   ]
  },
  {
   "cell_type": "code",
   "execution_count": 60,
   "id": "fe2a38dd",
   "metadata": {},
   "outputs": [
    {
     "data": {
      "text/plain": [
       "(6672, 631, 452, 483)"
      ]
     },
     "execution_count": 60,
     "metadata": {},
     "output_type": "execute_result"
    }
   ],
   "source": [
    "(tn, fp, fn, tp) = confusion_matrix(y_test, predictions).ravel()\n",
    "(tn, fp, fn, tp)"
   ]
  },
  {
   "cell_type": "code",
   "execution_count": 61,
   "id": "085ee200",
   "metadata": {},
   "outputs": [
    {
     "data": {
      "text/plain": [
       "Index(['euribor3m', 'campaign', 'education', 'previous', 'cons.price.idx',\n",
       "       'cons.conf.idx', 'day_of_week_mon'],\n",
       "      dtype='object')"
      ]
     },
     "execution_count": 61,
     "metadata": {},
     "output_type": "execute_result"
    }
   ],
   "source": [
    "feat_score = pd.Series(model.get_booster().get_score(importance_type='weight'), index=model.get_booster().feature_names).sort_values(ascending=False)\n",
    "feat_score.index[feat_score>100]"
   ]
  },
  {
   "cell_type": "code",
   "execution_count": 62,
   "id": "bb865094",
   "metadata": {},
   "outputs": [],
   "source": [
    "X_train2 = X_train.loc[:, feat_score.index[feat_score>100]]\n",
    "X_test2 = X_test.loc[:, feat_score.index[feat_score>100]]"
   ]
  },
  {
   "cell_type": "code",
   "execution_count": null,
   "id": "9e770a8c",
   "metadata": {},
   "outputs": [
    {
     "name": "stdout",
     "output_type": "stream",
     "text": [
      "Mean f1: 0.15390\n",
      "Mean f1: 0.31431\n",
      "Mean f1: 0.40377\n",
      "Mean f1: 0.44386\n",
      "Mean f1: 0.46205\n",
      "Mean f1: 0.47116\n",
      "Mean f1: 0.47678\n",
      "Mean f1: 0.47654\n",
      "Mean f1: 0.47890\n",
      "Mean f1: 0.47673\n",
      "Mean f1: 0.47071\n",
      "Mean f1: 0.46739\n"
     ]
    }
   ],
   "source": [
    "scores_list = []\n",
    "metric = 'f1'\n",
    "weight_array = np.arange(imbalance_rate - 7.5, imbalance_rate + 7.6, 0.5)\n",
    "for weight in weight_array:\n",
    "    model = xgb.XGBClassifier(scale_pos_weight=weight)\n",
    "    cv = RepeatedStratifiedKFold(n_splits=10, n_repeats=3, random_state=1)\n",
    "    scores = cross_val_score(model, X_train2, y_train, scoring=metric, cv=cv, n_jobs=-1)\n",
    "    print(f'Mean {metric}: %.5f' % np.mean(scores))\n",
    "    scores_list.append(np.mean(scores))"
   ]
  },
  {
   "cell_type": "code",
   "execution_count": null,
   "id": "8cfcbbe7",
   "metadata": {},
   "outputs": [],
   "source": [
    "model = xgb.XGBClassifier(scale_pos_weight=weight_array[np.argmax(scores_list)])\n",
    "model.fit(X_train2, y_train.astype(int))"
   ]
  },
  {
   "cell_type": "code",
   "execution_count": null,
   "id": "f6a81600",
   "metadata": {},
   "outputs": [],
   "source": [
    "predictions = model.predict(X_test2)\n",
    "accuracy = accuracy_score(y_test2, predictions)"
   ]
  },
  {
   "cell_type": "code",
   "execution_count": null,
   "id": "bd89ad97",
   "metadata": {},
   "outputs": [],
   "source": [
    "(tn, fp, fn, tp) = confusion_matrix(y_train, model.predict(X_train2)).ravel()\n",
    "(tn, fp, fn, tp)"
   ]
  },
  {
   "cell_type": "code",
   "execution_count": 14,
   "id": "f32b1122",
   "metadata": {},
   "outputs": [
    {
     "data": {
      "text/plain": [
       "(6672, 631, 452, 483)"
      ]
     },
     "execution_count": 14,
     "metadata": {},
     "output_type": "execute_result"
    }
   ],
   "source": [
    "(tn, fp, fn, tp) = confusion_matrix(y_test, predictions).ravel()\n",
    "(tn, fp, fn, tp)"
   ]
  }
 ],
 "metadata": {
  "kernelspec": {
   "display_name": "Python 3",
   "language": "python",
   "name": "python3"
  },
  "language_info": {
   "codemirror_mode": {
    "name": "ipython",
    "version": 3
   },
   "file_extension": ".py",
   "mimetype": "text/x-python",
   "name": "python",
   "nbconvert_exporter": "python",
   "pygments_lexer": "ipython3",
   "version": "3.9.6"
  }
 },
 "nbformat": 4,
 "nbformat_minor": 5
}
