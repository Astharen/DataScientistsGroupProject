{
 "cells": [
  {
   "cell_type": "code",
   "execution_count": 1,
   "id": "2a84c203",
   "metadata": {},
   "outputs": [],
   "source": [
    "import xgboost as xgb\n",
    "from sklearn.model_selection import RepeatedStratifiedKFold\n",
    "from sklearn.model_selection import cross_val_score\n",
    "import pandas as pd\n",
    "import os\n",
    "import numpy as np\n",
    "from sklearn.model_selection import train_test_split\n",
    "from sklearn.metrics import accuracy_score\n",
    "from sklearn.metrics import confusion_matrix\n",
    "import sklearn"
   ]
  },
  {
   "cell_type": "code",
   "execution_count": 2,
   "id": "e011ffd8",
   "metadata": {},
   "outputs": [],
   "source": [
    "data_s = pd.read_csv(f\"{os.path.dirname(os.path.abspath(''))}/bank-additional/filtered_data_scaled.csv\", sep=\",\")\n",
    "data = pd.read_csv(f\"{os.path.dirname(os.path.abspath(''))}/bank-additional/filtered_data.csv\", sep=\",\")"
   ]
  },
  {
   "cell_type": "code",
   "execution_count": 3,
   "id": "8d4016af",
   "metadata": {},
   "outputs": [],
   "source": [
    "data_s_dur = pd.read_csv(f\"{os.path.dirname(os.path.abspath(''))}/bank-additional/filtered_data_scaled_dur.csv\", sep=\",\")\n",
    "data_dur = pd.read_csv(f\"{os.path.dirname(os.path.abspath(''))}/bank-additional/filtered_data_dur.csv\", sep=\",\")"
   ]
  },
  {
   "cell_type": "markdown",
   "id": "cebc759b",
   "metadata": {},
   "source": [
    "### Boosting model with and without duration after the EDA and data cleaning"
   ]
  },
  {
   "cell_type": "markdown",
   "id": "13d26767",
   "metadata": {},
   "source": [
    "We will use the f1_score metric since considering how we are calculating the model, is the more balanced for our dataset."
   ]
  },
  {
   "cell_type": "code",
   "execution_count": 4,
   "id": "f797a8fd",
   "metadata": {},
   "outputs": [],
   "source": [
    "X = data_s.loc[:, data_s.columns!= 'y_yes']\n",
    "y = data_s.loc[:, 'y_yes']"
   ]
  },
  {
   "cell_type": "code",
   "execution_count": 5,
   "id": "27fde493",
   "metadata": {},
   "outputs": [],
   "source": [
    "X_dur = data_s_dur.loc[:, data_s_dur.columns!= 'y_yes']"
   ]
  },
  {
   "cell_type": "code",
   "execution_count": 6,
   "id": "fca58417",
   "metadata": {},
   "outputs": [
    {
     "data": {
      "text/plain": [
       "Index(['education', 'campaign', 'pdays', 'previous', 'emp.var.rate',\n",
       "       'cons.price.idx', 'cons.conf.idx', 'euribor3m', 'nr.employed',\n",
       "       'job_blue-collar', 'job_entrepreneur', 'job_housemaid',\n",
       "       'job_management', 'job_retired', 'job_self-employed', 'job_services',\n",
       "       'job_student', 'job_technician', 'job_unemployed', 'month_may',\n",
       "       'month_oct', 'month_sep', 'day_of_week_mon', 'poutcome_success'],\n",
       "      dtype='object')"
      ]
     },
     "execution_count": 6,
     "metadata": {},
     "output_type": "execute_result"
    }
   ],
   "source": [
    "X.columns"
   ]
  },
  {
   "cell_type": "code",
   "execution_count": 7,
   "id": "89e9d5ab",
   "metadata": {},
   "outputs": [],
   "source": [
    "X_train, X_test, y_train, y_test = train_test_split(X, y, test_size=0.2, random_state=42)\n",
    "X_train_dur, X_test_dur, y_train_dur, y_test_dur = train_test_split(X_dur, y, test_size=0.2, random_state=42)"
   ]
  },
  {
   "cell_type": "code",
   "execution_count": 8,
   "id": "0aa46e52",
   "metadata": {},
   "outputs": [
    {
     "data": {
      "text/plain": [
       "0.0    36548\n",
       "1.0     4640\n",
       "Name: y_yes, dtype: int64"
      ]
     },
     "execution_count": 8,
     "metadata": {},
     "output_type": "execute_result"
    }
   ],
   "source": [
    "imbalance_rate = y.value_counts()[0]/y.value_counts()[1]\n",
    "y.value_counts()"
   ]
  },
  {
   "cell_type": "code",
   "execution_count": 9,
   "id": "237f5d05",
   "metadata": {},
   "outputs": [],
   "source": [
    "# sklearn.metrics.SCORERS.keys()"
   ]
  },
  {
   "cell_type": "code",
   "execution_count": 10,
   "id": "db570644",
   "metadata": {},
   "outputs": [
    {
     "name": "stdout",
     "output_type": "stream",
     "text": [
      "Mean f1: 0.25047\n",
      "Mean f1: 0.36000\n",
      "Mean f1: 0.41828\n",
      "Mean f1: 0.44755\n",
      "Mean f1: 0.46704\n",
      "Mean f1: 0.47182\n",
      "Mean f1: 0.47602\n",
      "Mean f1: 0.47730\n",
      "Mean f1: 0.47781\n",
      "Mean f1: 0.47640\n",
      "Mean f1: 0.47243\n",
      "Mean f1: 0.46978\n",
      "Mean f1: 0.46464\n",
      "Mean f1: 0.45664\n",
      "Mean f1: 0.45199\n",
      "Mean f1: 0.44627\n",
      "Mean f1: 0.43672\n",
      "Mean f1: 0.43259\n",
      "Mean f1: 0.42325\n",
      "Mean f1: 0.41931\n",
      "Mean f1: 0.40815\n",
      "Mean f1: 0.39921\n",
      "Mean f1: 0.39189\n",
      "Mean f1: 0.38289\n",
      "Mean f1: 0.37440\n",
      "Mean f1: 0.36683\n",
      "Mean f1: 0.36019\n",
      "Mean f1: 0.35281\n",
      "Mean f1: 0.34477\n",
      "Mean f1: 0.33725\n",
      "Mean f1: 0.33154\n"
     ]
    }
   ],
   "source": [
    "scores_list = []\n",
    "metric = 'f1'\n",
    "weight_array = np.arange(imbalance_rate - 7.5, imbalance_rate + 7.6, 0.5)\n",
    "for weight in weight_array:\n",
    "    model = xgb.XGBClassifier(scale_pos_weight=weight)\n",
    "    cv = RepeatedStratifiedKFold(n_splits=10, n_repeats=3, random_state=1)\n",
    "    scores = cross_val_score(model, X_train, y_train, scoring=metric, cv=cv, n_jobs=-1)\n",
    "    print(f'Mean {metric}: %.5f' % np.mean(scores))\n",
    "    scores_list.append(np.mean(scores))"
   ]
  },
  {
   "cell_type": "code",
   "execution_count": 11,
   "id": "0b62dff6",
   "metadata": {},
   "outputs": [
    {
     "data": {
      "text/plain": [
       "4.376724137931035"
      ]
     },
     "execution_count": 11,
     "metadata": {},
     "output_type": "execute_result"
    }
   ],
   "source": [
    "weight_array[np.argmax(scores_list)]"
   ]
  },
  {
   "cell_type": "code",
   "execution_count": 12,
   "id": "d520713b",
   "metadata": {},
   "outputs": [
    {
     "name": "stdout",
     "output_type": "stream",
     "text": [
      "Mean f1: 0.43648\n",
      "Mean f1: 0.56417\n",
      "Mean f1: 0.61380\n",
      "Mean f1: 0.63247\n",
      "Mean f1: 0.63884\n",
      "Mean f1: 0.63894\n",
      "Mean f1: 0.63841\n",
      "Mean f1: 0.63705\n",
      "Mean f1: 0.63171\n",
      "Mean f1: 0.63275\n",
      "Mean f1: 0.63052\n",
      "Mean f1: 0.62786\n",
      "Mean f1: 0.62749\n",
      "Mean f1: 0.62292\n",
      "Mean f1: 0.62217\n",
      "Mean f1: 0.62060\n",
      "Mean f1: 0.61901\n",
      "Mean f1: 0.61833\n",
      "Mean f1: 0.61520\n",
      "Mean f1: 0.61242\n",
      "Mean f1: 0.61145\n",
      "Mean f1: 0.61036\n",
      "Mean f1: 0.61113\n",
      "Mean f1: 0.60840\n",
      "Mean f1: 0.60647\n",
      "Mean f1: 0.60751\n",
      "Mean f1: 0.60503\n",
      "Mean f1: 0.60250\n",
      "Mean f1: 0.60441\n",
      "Mean f1: 0.60380\n",
      "Mean f1: 0.60083\n"
     ]
    }
   ],
   "source": [
    "scores_list_dur = []\n",
    "metric = 'f1'\n",
    "weight_array = np.arange(imbalance_rate - 7.5, imbalance_rate + 7.6, 0.5)\n",
    "for weight in weight_array:\n",
    "    model = xgb.XGBClassifier(scale_pos_weight=weight)\n",
    "    cv = RepeatedStratifiedKFold(n_splits=10, n_repeats=3, random_state=1)\n",
    "    scores = cross_val_score(model, X_train_dur, y_train_dur, scoring=metric, cv=cv, n_jobs=-1)\n",
    "    print(f'Mean {metric}: %.5f' % np.mean(scores))\n",
    "    scores_list_dur.append(np.mean(scores))"
   ]
  },
  {
   "cell_type": "code",
   "execution_count": 13,
   "id": "3b86ef68",
   "metadata": {},
   "outputs": [
    {
     "data": {
      "text/plain": [
       "4.376724137931035"
      ]
     },
     "execution_count": 13,
     "metadata": {},
     "output_type": "execute_result"
    }
   ],
   "source": [
    "weight_array[np.argmax(scores_list)]"
   ]
  },
  {
   "cell_type": "code",
   "execution_count": 14,
   "id": "84666ade",
   "metadata": {},
   "outputs": [],
   "source": [
    "model = xgb.XGBClassifier(scale_pos_weight=weight_array[np.argmax(scores_list)])\n",
    "model_dur = xgb.XGBClassifier(scale_pos_weight=weight_array[np.argmax(scores_list_dur)])"
   ]
  },
  {
   "cell_type": "code",
   "execution_count": 15,
   "id": "e4f8f8d2",
   "metadata": {
    "scrolled": false
   },
   "outputs": [
    {
     "name": "stdout",
     "output_type": "stream",
     "text": [
      "[20:51:16] WARNING: C:/Users/Administrator/workspace/xgboost-win64_release_1.4.0/src/learner.cc:1095: Starting in XGBoost 1.3.0, the default evaluation metric used with the objective 'binary:logistic' was changed from 'error' to 'logloss'. Explicitly set eval_metric if you'd like to restore the old behavior.\n"
     ]
    },
    {
     "name": "stderr",
     "output_type": "stream",
     "text": [
      "c:\\users\\almudena\\appdata\\local\\programs\\python\\python39\\lib\\site-packages\\xgboost\\sklearn.py:1146: UserWarning: The use of label encoder in XGBClassifier is deprecated and will be removed in a future release. To remove this warning, do the following: 1) Pass option use_label_encoder=False when constructing XGBClassifier object; and 2) Encode your labels (y) as integers starting with 0, i.e. 0, 1, 2, ..., [num_class - 1].\n",
      "  warnings.warn(label_encoder_deprecation_msg, UserWarning)\n"
     ]
    },
    {
     "name": "stdout",
     "output_type": "stream",
     "text": [
      "[20:51:17] WARNING: C:/Users/Administrator/workspace/xgboost-win64_release_1.4.0/src/learner.cc:1095: Starting in XGBoost 1.3.0, the default evaluation metric used with the objective 'binary:logistic' was changed from 'error' to 'logloss'. Explicitly set eval_metric if you'd like to restore the old behavior.\n"
     ]
    },
    {
     "data": {
      "text/plain": [
       "XGBClassifier(base_score=0.5, booster='gbtree', colsample_bylevel=1,\n",
       "              colsample_bynode=1, colsample_bytree=1, gamma=0, gpu_id=-1,\n",
       "              importance_type='gain', interaction_constraints='',\n",
       "              learning_rate=0.300000012, max_delta_step=0, max_depth=6,\n",
       "              min_child_weight=1, missing=nan, monotone_constraints='()',\n",
       "              n_estimators=100, n_jobs=12, num_parallel_tree=1, random_state=0,\n",
       "              reg_alpha=0, reg_lambda=1, scale_pos_weight=2.876724137931035,\n",
       "              subsample=1, tree_method='exact', validate_parameters=1,\n",
       "              verbosity=None)"
      ]
     },
     "execution_count": 15,
     "metadata": {},
     "output_type": "execute_result"
    }
   ],
   "source": [
    "model.fit(X_train, y_train.astype(int))\n",
    "model_dur.fit(X_train_dur, y_train_dur.astype(int))"
   ]
  },
  {
   "cell_type": "code",
   "execution_count": 16,
   "id": "ce621799",
   "metadata": {},
   "outputs": [
    {
     "data": {
      "text/plain": [
       "<AxesSubplot:title={'center':'Feature importance'}, xlabel='F score', ylabel='Features'>"
      ]
     },
     "execution_count": 16,
     "metadata": {},
     "output_type": "execute_result"
    },
    {
     "data": {
      "image/png": "[encoded data removed]",
      "text/plain": [
       "<Figure size 432x288 with 1 Axes>"
      ]
     },
     "metadata": {
      "needs_background": "light"
     },
     "output_type": "display_data"
    }
   ],
   "source": [
    "xgb.plot_importance(model)"
   ]
  },
  {
   "cell_type": "code",
   "execution_count": 17,
   "id": "e7b71ee4",
   "metadata": {},
   "outputs": [
    {
     "data": {
      "text/plain": [
       "<AxesSubplot:title={'center':'Feature importance'}, xlabel='F score', ylabel='Features'>"
      ]
     },
     "execution_count": 17,
     "metadata": {},
     "output_type": "execute_result"
    },
    {
     "data": {
      "image/png": "[encoded data removed]",
      "text/plain": [
       "<Figure size 432x288 with 1 Axes>"
      ]
     },
     "metadata": {
      "needs_background": "light"
     },
     "output_type": "display_data"
    }
   ],
   "source": [
    "xgb.plot_importance(model_dur)"
   ]
  },
  {
   "cell_type": "code",
   "execution_count": 18,
   "id": "4f3daf2c",
   "metadata": {},
   "outputs": [],
   "source": [
    "predictions = model.predict(X_test)\n",
    "accuracy = accuracy_score(y_test, predictions)\n",
    "predictions_dur = model_dur.predict(X_test_dur)\n",
    "accuracy_dur = accuracy_score(y_test_dur, predictions_dur)"
   ]
  },
  {
   "cell_type": "code",
   "execution_count": 19,
   "id": "9c84be8b",
   "metadata": {},
   "outputs": [
    {
     "name": "stdout",
     "output_type": "stream",
     "text": [
      "27175 2070 1343 2362\n"
     ]
    },
    {
     "data": {
      "text/plain": [
       "(6672, 631, 452, 483)"
      ]
     },
     "execution_count": 19,
     "metadata": {},
     "output_type": "execute_result"
    }
   ],
   "source": [
    "(tn, fp, fn, tp) = confusion_matrix(y_train, model.predict(X_train)).ravel()\n",
    "print(tn, fp, fn, tp)\n",
    "(tn, fp, fn, tp) = confusion_matrix(y_test, predictions).ravel()\n",
    "(tn, fp, fn, tp)"
   ]
  },
  {
   "cell_type": "code",
   "execution_count": 21,
   "id": "76a5ee92",
   "metadata": {},
   "outputs": [
    {
     "name": "stdout",
     "output_type": "stream",
     "text": [
      "27618 1627 353 3352\n"
     ]
    },
    {
     "data": {
      "text/plain": [
       "(6730, 573, 230, 705)"
      ]
     },
     "execution_count": 21,
     "metadata": {},
     "output_type": "execute_result"
    }
   ],
   "source": [
    "(tn, fp, fn, tp) = confusion_matrix(y_train_dur, model_dur.predict(X_train_dur)).ravel()\n",
    "print(tn, fp, fn, tp)\n",
    "(tn, fp, fn, tp) = confusion_matrix(y_test_dur, predictions_dur).ravel()\n",
    "(tn, fp, fn, tp)"
   ]
  },
  {
   "cell_type": "markdown",
   "id": "06de10d6",
   "metadata": {},
   "source": [
    "As we can see, with the duration variable the results are considerably better."
   ]
  },
  {
   "cell_type": "markdown",
   "id": "fded6659",
   "metadata": {},
   "source": [
    "### No duration model without lasts features in feature importance"
   ]
  },
  {
   "cell_type": "code",
   "execution_count": 22,
   "id": "f9023fa3",
   "metadata": {},
   "outputs": [
    {
     "data": {
      "text/plain": [
       "Index(['euribor3m', 'campaign', 'education', 'previous', 'cons.price.idx',\n",
       "       'cons.conf.idx', 'day_of_week_mon'],\n",
       "      dtype='object')"
      ]
     },
     "execution_count": 22,
     "metadata": {},
     "output_type": "execute_result"
    }
   ],
   "source": [
    "feat_score = pd.Series(model.get_booster().get_score(importance_type='weight'), index=model.get_booster().feature_names).sort_values(ascending=False)\n",
    "feat_score.index[feat_score>100]"
   ]
  },
  {
   "cell_type": "code",
   "execution_count": 23,
   "id": "c2a6798e",
   "metadata": {},
   "outputs": [],
   "source": [
    "X_train2 = X_train.loc[:, feat_score.index[feat_score>100]]\n",
    "X_test2 = X_test.loc[:, feat_score.index[feat_score>100]]"
   ]
  },
  {
   "cell_type": "code",
   "execution_count": 24,
   "id": "9e770a8c",
   "metadata": {},
   "outputs": [
    {
     "name": "stdout",
     "output_type": "stream",
     "text": [
      "Mean f1: 0.15390\n",
      "Mean f1: 0.31431\n",
      "Mean f1: 0.40377\n",
      "Mean f1: 0.44386\n",
      "Mean f1: 0.46205\n",
      "Mean f1: 0.47116\n",
      "Mean f1: 0.47678\n",
      "Mean f1: 0.47654\n",
      "Mean f1: 0.47890\n",
      "Mean f1: 0.47673\n",
      "Mean f1: 0.47071\n",
      "Mean f1: 0.46739\n",
      "Mean f1: 0.46069\n",
      "Mean f1: 0.45630\n",
      "Mean f1: 0.44938\n",
      "Mean f1: 0.44077\n",
      "Mean f1: 0.43633\n",
      "Mean f1: 0.42838\n",
      "Mean f1: 0.42228\n",
      "Mean f1: 0.41409\n",
      "Mean f1: 0.40669\n",
      "Mean f1: 0.39631\n",
      "Mean f1: 0.38947\n",
      "Mean f1: 0.37907\n",
      "Mean f1: 0.37096\n",
      "Mean f1: 0.35994\n",
      "Mean f1: 0.35308\n",
      "Mean f1: 0.34707\n",
      "Mean f1: 0.33726\n",
      "Mean f1: 0.33082\n",
      "Mean f1: 0.32315\n"
     ]
    }
   ],
   "source": [
    "scores_list = []\n",
    "metric = 'f1'\n",
    "weight_array = np.arange(imbalance_rate - 7.5, imbalance_rate + 7.6, 0.5)\n",
    "for weight in weight_array:\n",
    "    model = xgb.XGBClassifier(scale_pos_weight=weight)\n",
    "    cv = RepeatedStratifiedKFold(n_splits=10, n_repeats=3, random_state=1)\n",
    "    scores = cross_val_score(model, X_train2, y_train, scoring=metric, cv=cv, n_jobs=-1)\n",
    "    print(f'Mean {metric}: %.5f' % np.mean(scores))\n",
    "    scores_list.append(np.mean(scores))"
   ]
  },
  {
   "cell_type": "code",
   "execution_count": 25,
   "id": "88bb1282",
   "metadata": {},
   "outputs": [
    {
     "name": "stdout",
     "output_type": "stream",
     "text": [
      "[20:56:25] WARNING: C:/Users/Administrator/workspace/xgboost-win64_release_1.4.0/src/learner.cc:1095: Starting in XGBoost 1.3.0, the default evaluation metric used with the objective 'binary:logistic' was changed from 'error' to 'logloss'. Explicitly set eval_metric if you'd like to restore the old behavior.\n"
     ]
    },
    {
     "name": "stderr",
     "output_type": "stream",
     "text": [
      "c:\\users\\almudena\\appdata\\local\\programs\\python\\python39\\lib\\site-packages\\xgboost\\sklearn.py:1146: UserWarning: The use of label encoder in XGBClassifier is deprecated and will be removed in a future release. To remove this warning, do the following: 1) Pass option use_label_encoder=False when constructing XGBClassifier object; and 2) Encode your labels (y) as integers starting with 0, i.e. 0, 1, 2, ..., [num_class - 1].\n",
      "  warnings.warn(label_encoder_deprecation_msg, UserWarning)\n"
     ]
    },
    {
     "data": {
      "text/plain": [
       "XGBClassifier(base_score=0.5, booster='gbtree', colsample_bylevel=1,\n",
       "              colsample_bynode=1, colsample_bytree=1, gamma=0, gpu_id=-1,\n",
       "              importance_type='gain', interaction_constraints='',\n",
       "              learning_rate=0.300000012, max_delta_step=0, max_depth=6,\n",
       "              min_child_weight=1, missing=nan, monotone_constraints='()',\n",
       "              n_estimators=100, n_jobs=12, num_parallel_tree=1, random_state=0,\n",
       "              reg_alpha=0, reg_lambda=1, scale_pos_weight=4.376724137931035,\n",
       "              subsample=1, tree_method='exact', validate_parameters=1,\n",
       "              verbosity=None)"
      ]
     },
     "execution_count": 25,
     "metadata": {},
     "output_type": "execute_result"
    }
   ],
   "source": [
    "model = xgb.XGBClassifier(scale_pos_weight=weight_array[np.argmax(scores_list)])\n",
    "model.fit(X_train2, y_train.astype(int))"
   ]
  },
  {
   "cell_type": "code",
   "execution_count": 26,
   "id": "f6a81600",
   "metadata": {},
   "outputs": [],
   "source": [
    "predictions = model.predict(X_test2)\n",
    "accuracy = accuracy_score(y_test, predictions)"
   ]
  },
  {
   "cell_type": "code",
   "execution_count": 27,
   "id": "26f59786",
   "metadata": {},
   "outputs": [
    {
     "data": {
      "text/plain": [
       "(26794, 2451, 1413, 2292)"
      ]
     },
     "execution_count": 27,
     "metadata": {},
     "output_type": "execute_result"
    }
   ],
   "source": [
    "(tn, fp, fn, tp) = confusion_matrix(y_train, model.predict(X_train2)).ravel()\n",
    "(tn, fp, fn, tp)"
   ]
  },
  {
   "cell_type": "code",
   "execution_count": 28,
   "id": "71b22837",
   "metadata": {},
   "outputs": [
    {
     "data": {
      "text/plain": [
       "(6616, 687, 440, 495)"
      ]
     },
     "execution_count": 28,
     "metadata": {},
     "output_type": "execute_result"
    }
   ],
   "source": [
    "(tn, fp, fn, tp) = confusion_matrix(y_test, predictions).ravel()\n",
    "(tn, fp, fn, tp)"
   ]
  },
  {
   "cell_type": "code",
   "execution_count": null,
   "id": "aea9e7dc",
   "metadata": {},
   "outputs": [],
   "source": []
  }
 ],
 "metadata": {
  "kernelspec": {
   "display_name": "Python 3",
   "language": "python",
   "name": "python3"
  },
  "language_info": {
   "codemirror_mode": {
    "name": "ipython",
    "version": 3
   },
   "file_extension": ".py",
   "mimetype": "text/x-python",
   "name": "python",
   "nbconvert_exporter": "python",
   "pygments_lexer": "ipython3",
   "version": "3.9.6"
  }
 },
 "nbformat": 4,
 "nbformat_minor": 5
}
