{
 "cells": [
  {
   "cell_type": "markdown",
   "id": "77e3f150",
   "metadata": {},
   "source": [
    "<h1 style=\"text-align:center; color:blue\">Model Building</h1> \n",
    "<sub style=\"text-align:center; color:red\">Logistic Regression<sub>\n",
    "<hr>\n",
    "<hr>"
   ]
  },
  {
   "cell_type": "code",
   "execution_count": 1,
   "id": "55f9f3d8",
   "metadata": {},
   "outputs": [],
   "source": [
    "import pandas as pd\n",
    "import numpy as np\n",
    "import seaborn as sns\n",
    "import warnings\n",
    "warnings.filterwarnings('ignore')\n",
    "from sklearn.linear_model import LogisticRegression\n",
    "from sklearn.model_selection import train_test_split\n",
    "from sklearn.metrics import confusion_matrix\n",
    "from sklearn.metrics import classification_report"
   ]
  },
  {
   "cell_type": "code",
   "execution_count": 2,
   "id": "ef68c2f3",
   "metadata": {},
   "outputs": [
    {
     "data": {
      "text/html": [
       "<div>\n",
       "<style scoped>\n",
       "    .dataframe tbody tr th:only-of-type {\n",
       "        vertical-align: middle;\n",
       "    }\n",
       "\n",
       "    .dataframe tbody tr th {\n",
       "        vertical-align: top;\n",
       "    }\n",
       "\n",
       "    .dataframe thead th {\n",
       "        text-align: right;\n",
       "    }\n",
       "</style>\n",
       "<table border=\"1\" class=\"dataframe\">\n",
       "  <thead>\n",
       "    <tr style=\"text-align: right;\">\n",
       "      <th></th>\n",
       "      <th>education</th>\n",
       "      <th>job_blue-collar</th>\n",
       "      <th>job_entrepreneur</th>\n",
       "      <th>job_housemaid</th>\n",
       "      <th>job_management</th>\n",
       "      <th>job_retired</th>\n",
       "      <th>job_self-employed</th>\n",
       "      <th>job_services</th>\n",
       "      <th>job_student</th>\n",
       "      <th>job_technician</th>\n",
       "      <th>...</th>\n",
       "      <th>duration</th>\n",
       "      <th>campaign</th>\n",
       "      <th>pdays</th>\n",
       "      <th>previous</th>\n",
       "      <th>emp.var.rate</th>\n",
       "      <th>cons.price.idx</th>\n",
       "      <th>cons.conf.idx</th>\n",
       "      <th>euribor3m</th>\n",
       "      <th>nr.employed</th>\n",
       "      <th>zscore</th>\n",
       "    </tr>\n",
       "  </thead>\n",
       "  <tbody>\n",
       "    <tr>\n",
       "      <th>0</th>\n",
       "      <td>1.0</td>\n",
       "      <td>0.0</td>\n",
       "      <td>0.0</td>\n",
       "      <td>1.0</td>\n",
       "      <td>0.0</td>\n",
       "      <td>0.0</td>\n",
       "      <td>0.0</td>\n",
       "      <td>0.0</td>\n",
       "      <td>0.0</td>\n",
       "      <td>0.0</td>\n",
       "      <td>...</td>\n",
       "      <td>261.0</td>\n",
       "      <td>1.0</td>\n",
       "      <td>0.0</td>\n",
       "      <td>0.0</td>\n",
       "      <td>1.1</td>\n",
       "      <td>93.994</td>\n",
       "      <td>-36.4</td>\n",
       "      <td>4.857</td>\n",
       "      <td>5191.0</td>\n",
       "      <td>-0.563873</td>\n",
       "    </tr>\n",
       "    <tr>\n",
       "      <th>1</th>\n",
       "      <td>4.0</td>\n",
       "      <td>0.0</td>\n",
       "      <td>0.0</td>\n",
       "      <td>0.0</td>\n",
       "      <td>0.0</td>\n",
       "      <td>0.0</td>\n",
       "      <td>0.0</td>\n",
       "      <td>1.0</td>\n",
       "      <td>0.0</td>\n",
       "      <td>0.0</td>\n",
       "      <td>...</td>\n",
       "      <td>149.0</td>\n",
       "      <td>1.0</td>\n",
       "      <td>0.0</td>\n",
       "      <td>0.0</td>\n",
       "      <td>1.1</td>\n",
       "      <td>93.994</td>\n",
       "      <td>-36.4</td>\n",
       "      <td>4.857</td>\n",
       "      <td>5191.0</td>\n",
       "      <td>-0.563873</td>\n",
       "    </tr>\n",
       "    <tr>\n",
       "      <th>2</th>\n",
       "      <td>4.0</td>\n",
       "      <td>0.0</td>\n",
       "      <td>0.0</td>\n",
       "      <td>0.0</td>\n",
       "      <td>0.0</td>\n",
       "      <td>0.0</td>\n",
       "      <td>0.0</td>\n",
       "      <td>1.0</td>\n",
       "      <td>0.0</td>\n",
       "      <td>0.0</td>\n",
       "      <td>...</td>\n",
       "      <td>226.0</td>\n",
       "      <td>1.0</td>\n",
       "      <td>0.0</td>\n",
       "      <td>0.0</td>\n",
       "      <td>1.1</td>\n",
       "      <td>93.994</td>\n",
       "      <td>-36.4</td>\n",
       "      <td>4.857</td>\n",
       "      <td>5191.0</td>\n",
       "      <td>-0.563873</td>\n",
       "    </tr>\n",
       "    <tr>\n",
       "      <th>3</th>\n",
       "      <td>2.0</td>\n",
       "      <td>0.0</td>\n",
       "      <td>0.0</td>\n",
       "      <td>0.0</td>\n",
       "      <td>0.0</td>\n",
       "      <td>0.0</td>\n",
       "      <td>0.0</td>\n",
       "      <td>0.0</td>\n",
       "      <td>0.0</td>\n",
       "      <td>0.0</td>\n",
       "      <td>...</td>\n",
       "      <td>151.0</td>\n",
       "      <td>1.0</td>\n",
       "      <td>0.0</td>\n",
       "      <td>0.0</td>\n",
       "      <td>1.1</td>\n",
       "      <td>93.994</td>\n",
       "      <td>-36.4</td>\n",
       "      <td>4.857</td>\n",
       "      <td>5191.0</td>\n",
       "      <td>-0.563873</td>\n",
       "    </tr>\n",
       "    <tr>\n",
       "      <th>4</th>\n",
       "      <td>4.0</td>\n",
       "      <td>0.0</td>\n",
       "      <td>0.0</td>\n",
       "      <td>0.0</td>\n",
       "      <td>0.0</td>\n",
       "      <td>0.0</td>\n",
       "      <td>0.0</td>\n",
       "      <td>1.0</td>\n",
       "      <td>0.0</td>\n",
       "      <td>0.0</td>\n",
       "      <td>...</td>\n",
       "      <td>307.0</td>\n",
       "      <td>1.0</td>\n",
       "      <td>0.0</td>\n",
       "      <td>0.0</td>\n",
       "      <td>1.1</td>\n",
       "      <td>93.994</td>\n",
       "      <td>-36.4</td>\n",
       "      <td>4.857</td>\n",
       "      <td>5191.0</td>\n",
       "      <td>-0.563873</td>\n",
       "    </tr>\n",
       "  </tbody>\n",
       "</table>\n",
       "<p>5 rows × 41 columns</p>\n",
       "</div>"
      ],
      "text/plain": [
       "   education  job_blue-collar  job_entrepreneur  job_housemaid  \\\n",
       "0        1.0              0.0               0.0            1.0   \n",
       "1        4.0              0.0               0.0            0.0   \n",
       "2        4.0              0.0               0.0            0.0   \n",
       "3        2.0              0.0               0.0            0.0   \n",
       "4        4.0              0.0               0.0            0.0   \n",
       "\n",
       "   job_management  job_retired  job_self-employed  job_services  job_student  \\\n",
       "0             0.0          0.0                0.0           0.0          0.0   \n",
       "1             0.0          0.0                0.0           1.0          0.0   \n",
       "2             0.0          0.0                0.0           1.0          0.0   \n",
       "3             0.0          0.0                0.0           0.0          0.0   \n",
       "4             0.0          0.0                0.0           1.0          0.0   \n",
       "\n",
       "   job_technician  ...  duration  campaign  pdays  previous  emp.var.rate  \\\n",
       "0             0.0  ...     261.0       1.0    0.0       0.0           1.1   \n",
       "1             0.0  ...     149.0       1.0    0.0       0.0           1.1   \n",
       "2             0.0  ...     226.0       1.0    0.0       0.0           1.1   \n",
       "3             0.0  ...     151.0       1.0    0.0       0.0           1.1   \n",
       "4             0.0  ...     307.0       1.0    0.0       0.0           1.1   \n",
       "\n",
       "   cons.price.idx  cons.conf.idx  euribor3m  nr.employed    zscore  \n",
       "0          93.994          -36.4      4.857       5191.0 -0.563873  \n",
       "1          93.994          -36.4      4.857       5191.0 -0.563873  \n",
       "2          93.994          -36.4      4.857       5191.0 -0.563873  \n",
       "3          93.994          -36.4      4.857       5191.0 -0.563873  \n",
       "4          93.994          -36.4      4.857       5191.0 -0.563873  \n",
       "\n",
       "[5 rows x 41 columns]"
      ]
     },
     "execution_count": 2,
     "metadata": {},
     "output_type": "execute_result"
    }
   ],
   "source": [
    "fullData = pd.read_csv(\"cleaned_data.csv\",delimiter=',')\n",
    "fullData.head()"
   ]
  },
  {
   "cell_type": "code",
   "execution_count": 3,
   "id": "d94de1cf",
   "metadata": {},
   "outputs": [
    {
     "data": {
      "text/plain": [
       "education               float64\n",
       "job_blue-collar         float64\n",
       "job_entrepreneur        float64\n",
       "job_housemaid           float64\n",
       "job_management          float64\n",
       "job_retired             float64\n",
       "job_self-employed       float64\n",
       "job_services            float64\n",
       "job_student             float64\n",
       "job_technician          float64\n",
       "job_unemployed          float64\n",
       "marital_married         float64\n",
       "marital_single          float64\n",
       "contact_telephone       float64\n",
       "month_aug               float64\n",
       "month_dec               float64\n",
       "month_jul               float64\n",
       "month_jun               float64\n",
       "month_mar               float64\n",
       "month_may               float64\n",
       "month_nov               float64\n",
       "month_oct               float64\n",
       "month_sep               float64\n",
       "day_of_week_mon         float64\n",
       "day_of_week_thu         float64\n",
       "day_of_week_tue         float64\n",
       "day_of_week_wed         float64\n",
       "poutcome_nonexistent    float64\n",
       "poutcome_success        float64\n",
       "y_yes                   float64\n",
       "age                     float64\n",
       "duration                float64\n",
       "campaign                float64\n",
       "pdays                   float64\n",
       "previous                float64\n",
       "emp.var.rate            float64\n",
       "cons.price.idx          float64\n",
       "cons.conf.idx           float64\n",
       "euribor3m               float64\n",
       "nr.employed             float64\n",
       "zscore                  float64\n",
       "dtype: object"
      ]
     },
     "execution_count": 3,
     "metadata": {},
     "output_type": "execute_result"
    }
   ],
   "source": [
    "fullData.dtypes"
   ]
  },
  {
   "cell_type": "code",
   "execution_count": 8,
   "id": "de9adf88",
   "metadata": {},
   "outputs": [
    {
     "name": "stdout",
     "output_type": "stream",
     "text": [
      "Index(['education', 'job_blue-collar', 'job_entrepreneur', 'job_housemaid',\n",
      "       'job_management', 'job_retired', 'job_self-employed', 'job_services',\n",
      "       'job_student', 'job_technician', 'job_unemployed', 'marital_married',\n",
      "       'marital_single', 'contact_telephone', 'month_aug', 'month_dec',\n",
      "       'month_jul', 'month_jun', 'month_mar', 'month_may', 'month_nov',\n",
      "       'month_oct', 'month_sep', 'day_of_week_mon', 'day_of_week_thu',\n",
      "       'day_of_week_tue', 'day_of_week_wed', 'poutcome_nonexistent',\n",
      "       'poutcome_success', 'y_yes', 'age', 'duration', 'campaign', 'pdays',\n",
      "       'previous', 'emp.var.rate', 'cons.price.idx', 'cons.conf.idx',\n",
      "       'euribor3m', 'nr.employed', 'zscore'],\n",
      "      dtype='object')\n"
     ]
    }
   ],
   "source": [
    "print(fullData.columns)"
   ]
  },
  {
   "cell_type": "markdown",
   "id": "f99892ca",
   "metadata": {},
   "source": [
    "<hr>"
   ]
  },
  {
   "cell_type": "markdown",
   "id": "91efa5d0",
   "metadata": {},
   "source": [
    "#### Split The Data Into Training And Test Sets."
   ]
  },
  {
   "cell_type": "code",
   "execution_count": 11,
   "id": "af671c3b",
   "metadata": {},
   "outputs": [
    {
     "data": {
      "text/plain": [
       "(41188, 40)"
      ]
     },
     "execution_count": 11,
     "metadata": {},
     "output_type": "execute_result"
    }
   ],
   "source": [
    "X = fullData[['education', 'job_blue-collar', 'job_entrepreneur', 'job_housemaid',\n",
    "       'job_management', 'job_retired', 'job_self-employed', 'job_services',\n",
    "       'job_student', 'job_technician', 'job_unemployed', 'marital_married',\n",
    "       'marital_single', 'contact_telephone', 'month_aug', 'month_dec',\n",
    "       'month_jul', 'month_jun', 'month_mar', 'month_may', 'month_nov',\n",
    "       'month_oct', 'month_sep', 'day_of_week_mon', 'day_of_week_thu',\n",
    "       'day_of_week_tue', 'day_of_week_wed', 'poutcome_nonexistent',\n",
    "       'poutcome_success', 'age', 'duration', 'campaign', 'pdays',\n",
    "       'previous', 'emp.var.rate', 'cons.price.idx', 'cons.conf.idx',\n",
    "       'euribor3m', 'nr.employed', 'zscore']]\n",
    "X.shape"
   ]
  },
  {
   "cell_type": "code",
   "execution_count": 12,
   "id": "6ba1ef1d",
   "metadata": {},
   "outputs": [
    {
     "data": {
      "text/html": [
       "<div>\n",
       "<style scoped>\n",
       "    .dataframe tbody tr th:only-of-type {\n",
       "        vertical-align: middle;\n",
       "    }\n",
       "\n",
       "    .dataframe tbody tr th {\n",
       "        vertical-align: top;\n",
       "    }\n",
       "\n",
       "    .dataframe thead th {\n",
       "        text-align: right;\n",
       "    }\n",
       "</style>\n",
       "<table border=\"1\" class=\"dataframe\">\n",
       "  <thead>\n",
       "    <tr style=\"text-align: right;\">\n",
       "      <th></th>\n",
       "      <th>education</th>\n",
       "      <th>job_blue-collar</th>\n",
       "      <th>job_entrepreneur</th>\n",
       "      <th>job_housemaid</th>\n",
       "      <th>job_management</th>\n",
       "      <th>job_retired</th>\n",
       "      <th>job_self-employed</th>\n",
       "      <th>job_services</th>\n",
       "      <th>job_student</th>\n",
       "      <th>job_technician</th>\n",
       "      <th>...</th>\n",
       "      <th>duration</th>\n",
       "      <th>campaign</th>\n",
       "      <th>pdays</th>\n",
       "      <th>previous</th>\n",
       "      <th>emp.var.rate</th>\n",
       "      <th>cons.price.idx</th>\n",
       "      <th>cons.conf.idx</th>\n",
       "      <th>euribor3m</th>\n",
       "      <th>nr.employed</th>\n",
       "      <th>zscore</th>\n",
       "    </tr>\n",
       "  </thead>\n",
       "  <tbody>\n",
       "    <tr>\n",
       "      <th>0</th>\n",
       "      <td>1.0</td>\n",
       "      <td>0.0</td>\n",
       "      <td>0.0</td>\n",
       "      <td>1.0</td>\n",
       "      <td>0.0</td>\n",
       "      <td>0.0</td>\n",
       "      <td>0.0</td>\n",
       "      <td>0.0</td>\n",
       "      <td>0.0</td>\n",
       "      <td>0.0</td>\n",
       "      <td>...</td>\n",
       "      <td>261.0</td>\n",
       "      <td>1.0</td>\n",
       "      <td>0.0</td>\n",
       "      <td>0.0</td>\n",
       "      <td>1.1</td>\n",
       "      <td>93.994</td>\n",
       "      <td>-36.4</td>\n",
       "      <td>4.857</td>\n",
       "      <td>5191.0</td>\n",
       "      <td>-0.563873</td>\n",
       "    </tr>\n",
       "    <tr>\n",
       "      <th>1</th>\n",
       "      <td>4.0</td>\n",
       "      <td>0.0</td>\n",
       "      <td>0.0</td>\n",
       "      <td>0.0</td>\n",
       "      <td>0.0</td>\n",
       "      <td>0.0</td>\n",
       "      <td>0.0</td>\n",
       "      <td>1.0</td>\n",
       "      <td>0.0</td>\n",
       "      <td>0.0</td>\n",
       "      <td>...</td>\n",
       "      <td>149.0</td>\n",
       "      <td>1.0</td>\n",
       "      <td>0.0</td>\n",
       "      <td>0.0</td>\n",
       "      <td>1.1</td>\n",
       "      <td>93.994</td>\n",
       "      <td>-36.4</td>\n",
       "      <td>4.857</td>\n",
       "      <td>5191.0</td>\n",
       "      <td>-0.563873</td>\n",
       "    </tr>\n",
       "    <tr>\n",
       "      <th>2</th>\n",
       "      <td>4.0</td>\n",
       "      <td>0.0</td>\n",
       "      <td>0.0</td>\n",
       "      <td>0.0</td>\n",
       "      <td>0.0</td>\n",
       "      <td>0.0</td>\n",
       "      <td>0.0</td>\n",
       "      <td>1.0</td>\n",
       "      <td>0.0</td>\n",
       "      <td>0.0</td>\n",
       "      <td>...</td>\n",
       "      <td>226.0</td>\n",
       "      <td>1.0</td>\n",
       "      <td>0.0</td>\n",
       "      <td>0.0</td>\n",
       "      <td>1.1</td>\n",
       "      <td>93.994</td>\n",
       "      <td>-36.4</td>\n",
       "      <td>4.857</td>\n",
       "      <td>5191.0</td>\n",
       "      <td>-0.563873</td>\n",
       "    </tr>\n",
       "  </tbody>\n",
       "</table>\n",
       "<p>3 rows × 40 columns</p>\n",
       "</div>"
      ],
      "text/plain": [
       "   education  job_blue-collar  job_entrepreneur  job_housemaid  \\\n",
       "0        1.0              0.0               0.0            1.0   \n",
       "1        4.0              0.0               0.0            0.0   \n",
       "2        4.0              0.0               0.0            0.0   \n",
       "\n",
       "   job_management  job_retired  job_self-employed  job_services  job_student  \\\n",
       "0             0.0          0.0                0.0           0.0          0.0   \n",
       "1             0.0          0.0                0.0           1.0          0.0   \n",
       "2             0.0          0.0                0.0           1.0          0.0   \n",
       "\n",
       "   job_technician  ...  duration  campaign  pdays  previous  emp.var.rate  \\\n",
       "0             0.0  ...     261.0       1.0    0.0       0.0           1.1   \n",
       "1             0.0  ...     149.0       1.0    0.0       0.0           1.1   \n",
       "2             0.0  ...     226.0       1.0    0.0       0.0           1.1   \n",
       "\n",
       "   cons.price.idx  cons.conf.idx  euribor3m  nr.employed    zscore  \n",
       "0          93.994          -36.4      4.857       5191.0 -0.563873  \n",
       "1          93.994          -36.4      4.857       5191.0 -0.563873  \n",
       "2          93.994          -36.4      4.857       5191.0 -0.563873  \n",
       "\n",
       "[3 rows x 40 columns]"
      ]
     },
     "execution_count": 12,
     "metadata": {},
     "output_type": "execute_result"
    }
   ],
   "source": [
    "X.head(3)"
   ]
  },
  {
   "cell_type": "code",
   "execution_count": 14,
   "id": "2138bfa9",
   "metadata": {},
   "outputs": [
    {
     "data": {
      "text/plain": [
       "(41188,)"
      ]
     },
     "execution_count": 14,
     "metadata": {},
     "output_type": "execute_result"
    }
   ],
   "source": [
    "Y = fullData['y_yes']\n",
    "Y.shape"
   ]
  },
  {
   "cell_type": "markdown",
   "id": "b7bd0a03",
   "metadata": {},
   "source": [
    "#### Split the data into training and test sets."
   ]
  },
  {
   "cell_type": "code",
   "execution_count": 15,
   "id": "2a71a1f4",
   "metadata": {},
   "outputs": [],
   "source": [
    "X_train, X_test, y_train, y_test = train_test_split(X, Y, test_size=0.2)"
   ]
  },
  {
   "cell_type": "code",
   "execution_count": 16,
   "id": "73daa70d",
   "metadata": {},
   "outputs": [
    {
     "data": {
      "text/plain": [
       "32950"
      ]
     },
     "execution_count": 16,
     "metadata": {},
     "output_type": "execute_result"
    }
   ],
   "source": [
    "len(X_train)"
   ]
  },
  {
   "cell_type": "markdown",
   "id": "f3f7721f",
   "metadata": {},
   "source": [
    "<hr>\n",
    "<hr>"
   ]
  },
  {
   "cell_type": "markdown",
   "id": "236be239",
   "metadata": {},
   "source": [
    "### The data is all prepared for the modeling task."
   ]
  },
  {
   "cell_type": "markdown",
   "id": "cb40b561",
   "metadata": {},
   "source": [
    "<h1 style=\"text-align:center; color:red\">Logistic Regression<h1>"
   ]
  },
  {
   "cell_type": "code",
   "execution_count": 17,
   "id": "2774acca",
   "metadata": {},
   "outputs": [
    {
     "data": {
      "text/plain": [
       "LogisticRegression()"
      ]
     },
     "execution_count": 17,
     "metadata": {},
     "output_type": "execute_result"
    }
   ],
   "source": [
    "logModel = LogisticRegression()\n",
    "logModel.fit(X_train, y_train)"
   ]
  },
  {
   "cell_type": "code",
   "execution_count": 18,
   "id": "97f623ba",
   "metadata": {},
   "outputs": [
    {
     "name": "stdout",
     "output_type": "stream",
     "text": [
      "Accuracy of Logistic regression model prediction on test set:0.914\n"
     ]
    }
   ],
   "source": [
    "prediction = logModel.predict(X_test)\n",
    "print('Accuracy of Logistic regression model prediction on test set:{:.3f}'.format(logModel.score(X_test, y_test)))"
   ]
  },
  {
   "cell_type": "markdown",
   "id": "c77e0a32",
   "metadata": {},
   "source": [
    "#### Prediction By Generating The Metrics.\n",
    "1-Confusion Matrix for the model."
   ]
  },
  {
   "cell_type": "code",
   "execution_count": 20,
   "id": "289502f6",
   "metadata": {},
   "outputs": [
    {
     "name": "stdout",
     "output_type": "stream",
     "text": [
      "[[7271  163]\n",
      " [ 548  256]]\n"
     ]
    }
   ],
   "source": [
    "confusionMatrix = confusion_matrix(y_test, prediction)\n",
    "print(confusionMatrix)"
   ]
  },
  {
   "cell_type": "markdown",
   "id": "e8ef489f",
   "metadata": {},
   "source": [
    "2- Generate a Classification Report."
   ]
  },
  {
   "cell_type": "code",
   "execution_count": 22,
   "id": "07302bbc",
   "metadata": {},
   "outputs": [
    {
     "name": "stdout",
     "output_type": "stream",
     "text": [
      "              precision    recall  f1-score   support\n",
      "\n",
      "         0.0       0.93      0.98      0.95      7434\n",
      "         1.0       0.61      0.32      0.42       804\n",
      "\n",
      "    accuracy                           0.91      8238\n",
      "   macro avg       0.77      0.65      0.69      8238\n",
      "weighted avg       0.90      0.91      0.90      8238\n",
      "\n"
     ]
    }
   ],
   "source": [
    "print(classification_report(y_test, prediction))"
   ]
  },
  {
   "cell_type": "code",
   "execution_count": null,
   "id": "8c04e81e",
   "metadata": {},
   "outputs": [],
   "source": []
  }
 ],
 "metadata": {
  "kernelspec": {
   "display_name": "Python 3",
   "language": "python",
   "name": "python3"
  },
  "language_info": {
   "codemirror_mode": {
    "name": "ipython",
    "version": 3
   },
   "file_extension": ".py",
   "mimetype": "text/x-python",
   "name": "python",
   "nbconvert_exporter": "python",
   "pygments_lexer": "ipython3",
   "version": "3.9.6"
  }
 },
 "nbformat": 4,
 "nbformat_minor": 5
}
