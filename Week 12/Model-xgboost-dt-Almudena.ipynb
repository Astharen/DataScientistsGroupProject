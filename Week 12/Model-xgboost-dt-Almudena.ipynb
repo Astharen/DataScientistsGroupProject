{
 "cells": [
  {
   "cell_type": "code",
   "execution_count": 21,
   "id": "2a84c203",
   "metadata": {},
   "outputs": [],
   "source": [
    "import xgboost as xgb\n",
    "from sklearn.model_selection import RepeatedStratifiedKFold, GridSearchCV\n",
    "from sklearn.model_selection import cross_val_score\n",
    "import pandas as pd\n",
    "import os\n",
    "import numpy as np\n",
    "from sklearn.model_selection import train_test_split\n",
    "from sklearn.metrics import accuracy_score, f1_score\n",
    "from sklearn.metrics import confusion_matrix\n",
    "from sklearn.tree import DecisionTreeClassifier\n",
    "import sklearn\n",
    "from imblearn.under_sampling import RandomUnderSampler"
   ]
  },
  {
   "cell_type": "code",
   "execution_count": 10,
   "id": "e011ffd8",
   "metadata": {},
   "outputs": [],
   "source": [
    "data_s = pd.read_csv(f\"{os.path.dirname(os.path.abspath(''))}/bank-additional/filtered_data_scaled.csv\", sep=\",\")\n",
    "data = pd.read_csv(f\"{os.path.dirname(os.path.abspath(''))}/bank-additional/filtered_data.csv\", sep=\",\")"
   ]
  },
  {
   "cell_type": "code",
   "execution_count": 11,
   "id": "8d4016af",
   "metadata": {},
   "outputs": [],
   "source": [
    "data_s_dur = pd.read_csv(f\"{os.path.dirname(os.path.abspath(''))}/bank-additional/filtered_data_scaled_dur.csv\", sep=\",\")\n",
    "data_dur = pd.read_csv(f\"{os.path.dirname(os.path.abspath(''))}/bank-additional/filtered_data_dur.csv\", sep=\",\")"
   ]
  },
  {
   "cell_type": "markdown",
   "id": "cebc759b",
   "metadata": {},
   "source": [
    "# Boosting model with and without duration after the EDA and data cleaning"
   ]
  },
  {
   "cell_type": "markdown",
   "id": "13d26767",
   "metadata": {},
   "source": [
    "We will use the f1_score metric since considering how we are calculating the model, is the more balanced for our dataset."
   ]
  },
  {
   "cell_type": "markdown",
   "id": "715c3cf8",
   "metadata": {},
   "source": [
    "Playing with the imbalance_rate"
   ]
  },
  {
   "cell_type": "code",
   "execution_count": 12,
   "id": "377bf5d8",
   "metadata": {},
   "outputs": [
    {
     "data": {
      "text/plain": [
       "0.0    37083\n",
       "1.0     4105\n",
       "Name: y_yes, dtype: int64"
      ]
     },
     "execution_count": 12,
     "metadata": {},
     "output_type": "execute_result"
    }
   ],
   "source": [
    "X = data_s.loc[:, data_s.columns!= 'y_yes']\n",
    "y = data_s.loc[:, 'y_yes']\n",
    "\n",
    "X_dur = data_s_dur.loc[:, data_s_dur.columns!= 'y_yes']\n",
    "X_train, X_test, y_train, y_test = train_test_split(X, y, test_size=0.2, random_state=42)\n",
    "X_train_dur, X_test_dur, y_train_dur, y_test_dur = train_test_split(X_dur, y, test_size=0.2, random_state=42)\n",
    "\n",
    "imbalance_rate = y.value_counts()[0]/y.value_counts()[1]\n",
    "y.value_counts()"
   ]
  },
  {
   "cell_type": "code",
   "execution_count": 13,
   "id": "fb476d60",
   "metadata": {},
   "outputs": [],
   "source": [
    "# sklearn.metrics.SCORERS.keys()"
   ]
  },
  {
   "cell_type": "code",
   "execution_count": 17,
   "id": "20f14c44",
   "metadata": {},
   "outputs": [],
   "source": [
    "def model_metrics(model, X_train, y_train, X_test, y_test, predictions):\n",
    "    \n",
    "    accuracy = accuracy_score(y_test, predictions)\n",
    "    f1 = f1_score(y_test, predictions)\n",
    "    \n",
    "    (tn, fp, fn, tp) = confusion_matrix(y_train, model.predict(X_train)).ravel()\n",
    "    print(tn, fp, fn, tp)\n",
    "    (tn, fp, fn, tp) = confusion_matrix(y_test, predictions).ravel()\n",
    "    print(tn, fp, fn, tp)\n",
    "    \n",
    "    return accuracy, f1"
   ]
  },
  {
   "cell_type": "code",
   "execution_count": 15,
   "id": "60322e11",
   "metadata": {},
   "outputs": [],
   "source": [
    "def xgboost_model(data_s):\n",
    "    X = data_s.loc[:, data_s.columns!= 'y_yes']\n",
    "    y = data_s.loc[:, 'y_yes']\n",
    "    \n",
    "    X_train, X_test, y_train, y_test = train_test_split(X, y, test_size=0.2, random_state=42)\n",
    "    imbalance_rate = y.value_counts()[0]/y.value_counts()[1]\n",
    "    scores_list = []\n",
    "    metric = 'f1'\n",
    "    weight_array = np.arange(imbalance_rate - 7.5, imbalance_rate + 7.6, 0.5)\n",
    "    for weight in weight_array:\n",
    "        model = xgb.XGBClassifier(scale_pos_weight=weight)\n",
    "        cv = RepeatedStratifiedKFold(n_splits=10, n_repeats=3, random_state=1)\n",
    "        scores = cross_val_score(model, X_train, y_train, scoring=metric, cv=cv, n_jobs=-1)\n",
    "        print(f'Mean {metric}: %.5f' % np.mean(scores))\n",
    "        scores_list.append(np.mean(scores))\n",
    "    model = xgb.XGBClassifier(scale_pos_weight=weight_array[np.argmax(scores_list)])\n",
    "    model.fit(X_train, y_train.astype(int))\n",
    "    xgb.plot_importance(model)\n",
    "    predictions = model.predict(X_test)\n",
    "\n",
    "    accuracy, f1 = model_metrics(model, X_train, y_train, X_test, y_test, predictions)\n",
    "    \n",
    "    return accuracy, f1"
   ]
  },
  {
   "cell_type": "code",
   "execution_count": 16,
   "id": "a5354cca",
   "metadata": {},
   "outputs": [
    {
     "name": "stdout",
     "output_type": "stream",
     "text": [
      "Mean f1: 0.43532\n",
      "Mean f1: 0.46075\n",
      "Mean f1: 0.47518\n",
      "Mean f1: 0.48272\n",
      "Mean f1: 0.48510\n",
      "Mean f1: 0.48519\n",
      "Mean f1: 0.48961\n",
      "Mean f1: 0.48814\n",
      "Mean f1: 0.48410\n",
      "Mean f1: 0.48099\n",
      "Mean f1: 0.48005\n",
      "Mean f1: 0.47580\n",
      "Mean f1: 0.47135\n",
      "Mean f1: 0.46875\n",
      "Mean f1: 0.46253\n",
      "Mean f1: 0.45889\n",
      "Mean f1: 0.45478\n",
      "Mean f1: 0.44925\n",
      "Mean f1: 0.44069\n",
      "Mean f1: 0.43611\n",
      "Mean f1: 0.42776\n",
      "Mean f1: 0.42511\n",
      "Mean f1: 0.41915\n",
      "Mean f1: 0.41355\n",
      "Mean f1: 0.40969\n",
      "Mean f1: 0.40175\n",
      "Mean f1: 0.39756\n",
      "Mean f1: 0.39138\n",
      "Mean f1: 0.38657\n",
      "Mean f1: 0.38431\n",
      "Mean f1: 0.37922\n",
      "[13:18:07] WARNING: C:/Users/Administrator/workspace/xgboost-win64_release_1.4.0/src/learner.cc:1095: Starting in XGBoost 1.3.0, the default evaluation metric used with the objective 'binary:logistic' was changed from 'error' to 'logloss'. Explicitly set eval_metric if you'd like to restore the old behavior.\n"
     ]
    },
    {
     "name": "stderr",
     "output_type": "stream",
     "text": [
      "c:\\users\\almudena\\appdata\\local\\programs\\python\\python39\\lib\\site-packages\\xgboost\\sklearn.py:1146: UserWarning: The use of label encoder in XGBClassifier is deprecated and will be removed in a future release. To remove this warning, do the following: 1) Pass option use_label_encoder=False when constructing XGBClassifier object; and 2) Encode your labels (y) as integers starting with 0, i.e. 0, 1, 2, ..., [num_class - 1].\n",
      "  warnings.warn(label_encoder_deprecation_msg, UserWarning)\n"
     ]
    },
    {
     "ename": "NameError",
     "evalue": "name 'prediction' is not defined",
     "output_type": "error",
     "traceback": [
      "\u001b[1;31m---------------------------------------------------------------------------\u001b[0m",
      "\u001b[1;31mNameError\u001b[0m                                 Traceback (most recent call last)",
      "\u001b[1;32m<ipython-input-16-73000b7b7422>\u001b[0m in \u001b[0;36m<module>\u001b[1;34m\u001b[0m\n\u001b[1;32m----> 1\u001b[1;33m \u001b[0maccuracy\u001b[0m\u001b[1;33m,\u001b[0m \u001b[0mf1\u001b[0m \u001b[1;33m=\u001b[0m \u001b[0mxgboost_model\u001b[0m\u001b[1;33m(\u001b[0m\u001b[0mdata_s\u001b[0m\u001b[1;33m)\u001b[0m\u001b[1;33m\u001b[0m\u001b[1;33m\u001b[0m\u001b[0m\n\u001b[0m",
      "\u001b[1;32m<ipython-input-15-8393f311ebba>\u001b[0m in \u001b[0;36mxgboost_model\u001b[1;34m(data_s)\u001b[0m\n\u001b[0;32m     19\u001b[0m     \u001b[0mpredictions\u001b[0m \u001b[1;33m=\u001b[0m \u001b[0mmodel\u001b[0m\u001b[1;33m.\u001b[0m\u001b[0mpredict\u001b[0m\u001b[1;33m(\u001b[0m\u001b[0mX_test\u001b[0m\u001b[1;33m)\u001b[0m\u001b[1;33m\u001b[0m\u001b[1;33m\u001b[0m\u001b[0m\n\u001b[0;32m     20\u001b[0m \u001b[1;33m\u001b[0m\u001b[0m\n\u001b[1;32m---> 21\u001b[1;33m     \u001b[0maccuracy\u001b[0m\u001b[1;33m,\u001b[0m \u001b[0mf1\u001b[0m \u001b[1;33m=\u001b[0m \u001b[0mmodel_metrics\u001b[0m\u001b[1;33m(\u001b[0m\u001b[0mmodel\u001b[0m\u001b[1;33m,\u001b[0m \u001b[0mX_train\u001b[0m\u001b[1;33m,\u001b[0m \u001b[0my_train\u001b[0m\u001b[1;33m,\u001b[0m \u001b[0mX_test\u001b[0m\u001b[1;33m,\u001b[0m \u001b[0my_test\u001b[0m\u001b[1;33m,\u001b[0m \u001b[0mpredictions\u001b[0m\u001b[1;33m)\u001b[0m\u001b[1;33m\u001b[0m\u001b[1;33m\u001b[0m\u001b[0m\n\u001b[0m\u001b[0;32m     22\u001b[0m \u001b[1;33m\u001b[0m\u001b[0m\n\u001b[0;32m     23\u001b[0m     \u001b[1;32mreturn\u001b[0m \u001b[0maccuracy\u001b[0m\u001b[1;33m,\u001b[0m \u001b[0mf1\u001b[0m\u001b[1;33m\u001b[0m\u001b[1;33m\u001b[0m\u001b[0m\n",
      "\u001b[1;32m<ipython-input-14-5fc0c64f79ec>\u001b[0m in \u001b[0;36mmodel_metrics\u001b[1;34m(model, X_train, y_train, X_test, y_test, predictions)\u001b[0m\n\u001b[0;32m      1\u001b[0m \u001b[1;32mdef\u001b[0m \u001b[0mmodel_metrics\u001b[0m\u001b[1;33m(\u001b[0m\u001b[0mmodel\u001b[0m\u001b[1;33m,\u001b[0m \u001b[0mX_train\u001b[0m\u001b[1;33m,\u001b[0m \u001b[0my_train\u001b[0m\u001b[1;33m,\u001b[0m \u001b[0mX_test\u001b[0m\u001b[1;33m,\u001b[0m \u001b[0my_test\u001b[0m\u001b[1;33m,\u001b[0m \u001b[0mpredictions\u001b[0m\u001b[1;33m)\u001b[0m\u001b[1;33m:\u001b[0m\u001b[1;33m\u001b[0m\u001b[1;33m\u001b[0m\u001b[0m\n\u001b[1;32m----> 2\u001b[1;33m     \u001b[0maccuracy\u001b[0m \u001b[1;33m=\u001b[0m \u001b[0maccuracy_score\u001b[0m\u001b[1;33m(\u001b[0m\u001b[0my_test\u001b[0m\u001b[1;33m,\u001b[0m \u001b[0mprediction\u001b[0m\u001b[1;33m)\u001b[0m\u001b[1;33m\u001b[0m\u001b[1;33m\u001b[0m\u001b[0m\n\u001b[0m\u001b[0;32m      3\u001b[0m     \u001b[0mf1\u001b[0m \u001b[1;33m=\u001b[0m \u001b[0mf1_score\u001b[0m\u001b[1;33m(\u001b[0m\u001b[0my_test\u001b[0m\u001b[1;33m,\u001b[0m \u001b[0mpredictions\u001b[0m\u001b[1;33m)\u001b[0m\u001b[1;33m\u001b[0m\u001b[1;33m\u001b[0m\u001b[0m\n\u001b[0;32m      4\u001b[0m \u001b[1;33m\u001b[0m\u001b[0m\n\u001b[0;32m      5\u001b[0m     \u001b[1;33m(\u001b[0m\u001b[0mtn\u001b[0m\u001b[1;33m,\u001b[0m \u001b[0mfp\u001b[0m\u001b[1;33m,\u001b[0m \u001b[0mfn\u001b[0m\u001b[1;33m,\u001b[0m \u001b[0mtp\u001b[0m\u001b[1;33m)\u001b[0m \u001b[1;33m=\u001b[0m \u001b[0mconfusion_matrix\u001b[0m\u001b[1;33m(\u001b[0m\u001b[0my_train\u001b[0m\u001b[1;33m,\u001b[0m \u001b[0mmodel\u001b[0m\u001b[1;33m.\u001b[0m\u001b[0mpredict\u001b[0m\u001b[1;33m(\u001b[0m\u001b[0mX_train\u001b[0m\u001b[1;33m)\u001b[0m\u001b[1;33m)\u001b[0m\u001b[1;33m.\u001b[0m\u001b[0mravel\u001b[0m\u001b[1;33m(\u001b[0m\u001b[1;33m)\u001b[0m\u001b[1;33m\u001b[0m\u001b[1;33m\u001b[0m\u001b[0m\n",
      "\u001b[1;31mNameError\u001b[0m: name 'prediction' is not defined"
     ]
    },
    {
     "data": {
      "image/png": "[encoded data removed]",
      "text/plain": [
       "<Figure size 432x288 with 1 Axes>"
      ]
     },
     "metadata": {
      "needs_background": "light"
     },
     "output_type": "display_data"
    }
   ],
   "source": [
    "accuracy, f1 = xgboost_model(data_s)"
   ]
  },
  {
   "cell_type": "code",
   "execution_count": null,
   "id": "509bbc8c",
   "metadata": {},
   "outputs": [],
   "source": [
    "accuracy_dur, f1_dur = xgboost_model(data_s_dur)"
   ]
  },
  {
   "cell_type": "markdown",
   "id": "06de10d6",
   "metadata": {},
   "source": [
    "As we can see, with the duration variable the results are considerably better."
   ]
  },
  {
   "cell_type": "markdown",
   "id": "fded6659",
   "metadata": {},
   "source": [
    "### No duration model without lasts features in feature importance"
   ]
  },
  {
   "cell_type": "code",
   "execution_count": null,
   "id": "f9023fa3",
   "metadata": {},
   "outputs": [],
   "source": [
    "feat_score = pd.Series(model.get_booster().get_score(importance_type='weight'), index=model.get_booster().feature_names).sort_values(ascending=False)\n",
    "feat_score.index[feat_score>100]"
   ]
  },
  {
   "cell_type": "code",
   "execution_count": null,
   "id": "c2a6798e",
   "metadata": {},
   "outputs": [],
   "source": [
    "X_train2 = X_train.loc[:, feat_score.index[feat_score>100]]\n",
    "X_test2 = X_test.loc[:, feat_score.index[feat_score>100]]"
   ]
  },
  {
   "cell_type": "code",
   "execution_count": null,
   "id": "9e770a8c",
   "metadata": {},
   "outputs": [],
   "source": [
    "scores_list = []\n",
    "metric = 'f1'\n",
    "weight_array = np.arange(imbalance_rate - 7.5, imbalance_rate + 7.6, 0.5)\n",
    "for weight in weight_array:\n",
    "    model = xgb.XGBClassifier(scale_pos_weight=weight)\n",
    "    cv = RepeatedStratifiedKFold(n_splits=10, n_repeats=3, random_state=1)\n",
    "    scores = cross_val_score(model, X_train2, y_train, scoring=metric, cv=cv, n_jobs=-1)\n",
    "    print(f'Mean {metric}: %.5f' % np.mean(scores))\n",
    "    scores_list.append(np.mean(scores))"
   ]
  },
  {
   "cell_type": "code",
   "execution_count": null,
   "id": "88bb1282",
   "metadata": {},
   "outputs": [],
   "source": [
    "model = xgb.XGBClassifier(scale_pos_weight=weight_array[np.argmax(scores_list)])\n",
    "model.fit(X_train2, y_train.astype(int))"
   ]
  },
  {
   "cell_type": "code",
   "execution_count": null,
   "id": "f6a81600",
   "metadata": {},
   "outputs": [],
   "source": [
    "predictions = model.predict(X_test2)\n",
    "accuracy = accuracy_score(y_test, predictions)"
   ]
  },
  {
   "cell_type": "code",
   "execution_count": null,
   "id": "26f59786",
   "metadata": {},
   "outputs": [],
   "source": [
    "(tn, fp, fn, tp) = confusion_matrix(y_train, model.predict(X_train2)).ravel()\n",
    "(tn, fp, fn, tp)"
   ]
  },
  {
   "cell_type": "code",
   "execution_count": null,
   "id": "71b22837",
   "metadata": {},
   "outputs": [],
   "source": [
    "(tn, fp, fn, tp) = confusion_matrix(y_test, predictions).ravel()\n",
    "(tn, fp, fn, tp)"
   ]
  },
  {
   "cell_type": "markdown",
   "id": "b2ec42a2",
   "metadata": {},
   "source": [
    "# Decision tree"
   ]
  },
  {
   "cell_type": "markdown",
   "id": "5fd0526b",
   "metadata": {},
   "source": [
    "We want to preprune the tree to maximizes the f1 score"
   ]
  },
  {
   "cell_type": "code",
   "execution_count": 47,
   "id": "c02d2b4c",
   "metadata": {},
   "outputs": [],
   "source": [
    "def post_prune(x_train, y_train):\n",
    "    clf = DecisionTreeClassifier()\n",
    "    path = clf.cost_complexity_pruning_path(x_train, y_train)\n",
    "    ccp_alphas, impurities = path.ccp_alphas, path.impurities\n",
    "\n",
    "    train_acc = []\n",
    "    max_f1_score = 0\n",
    "    best_c = 0\n",
    "    for ccp_alpha in ccp_alphas:\n",
    "        clf = DecisionTreeClassifier(random_state=0, ccp_alpha=ccp_alpha)\n",
    "        clf.fit(x_train, y_train)\n",
    "        y_train_pred = clf.predict(x_train)\n",
    "        f1 = f1_score(y_train_pred, y_train)\n",
    "        if f1 > max_f1_score:\n",
    "            max_f1_score = f1\n",
    "            best_c = ccp_alpha        \n",
    "    return best_c"
   ]
  },
  {
   "cell_type": "code",
   "execution_count": 56,
   "id": "75829834",
   "metadata": {},
   "outputs": [],
   "source": [
    "def dt_model(data):\n",
    "    X = data.loc[:, data.columns!= 'y_yes']\n",
    "    y = data.loc[:, 'y_yes']\n",
    "    \n",
    "    rus = RandomUnderSampler(sampling_strategy=1)\n",
    "    X_res, y_res = rus.fit_resample(X, y)\n",
    "    \n",
    "    x_train, x_test, y_train, y_test = train_test_split(X_res, y_res, test_size=0.2)\n",
    "    \n",
    "    c = post_prune(x_train, y_train)\n",
    "    print(c)\n",
    "    \n",
    "    metric = 'f1'\n",
    "    \n",
    "    params = {'max_depth': list(range(2, 10, 2)),\n",
    "              'min_samples_split': list(range(2, 4)),\n",
    "              'min_samples_leaf': [1, 2]}\n",
    "\n",
    "    clf = DecisionTreeClassifier(ccp_alpha=c)\n",
    "    gcv = GridSearchCV(estimator=clf, param_grid=params, scoring=metric)\n",
    "    gcv.fit(x_train, y_train)\n",
    "    \n",
    "    dt = gcv.best_estimator_\n",
    "    dt.fit(x_train,y_train)\n",
    "    \n",
    "    prediction = dt.predict(x_test)\n",
    "    \n",
    "    accuracy, f1 = model_metrics(dt, x_train, y_train, x_test, y_test, prediction)\n",
    "    \n",
    "    return accuracy, f1"
   ]
  },
  {
   "cell_type": "code",
   "execution_count": 57,
   "id": "3e07a71c",
   "metadata": {},
   "outputs": [
    {
     "name": "stdout",
     "output_type": "stream",
     "text": [
      "5.075111652456355e-05\n",
      "2727 555 931 2355\n",
      "687 136 237 582\n"
     ]
    },
    {
     "data": {
      "text/plain": [
       "(0.7728380024360536, 0.7573194534808068)"
      ]
     },
     "execution_count": 57,
     "metadata": {},
     "output_type": "execute_result"
    }
   ],
   "source": [
    "dt_model(data)"
   ]
  },
  {
   "cell_type": "code",
   "execution_count": 58,
   "id": "fa8c75fb",
   "metadata": {},
   "outputs": [
    {
     "name": "stdout",
     "output_type": "stream",
     "text": [
      "0.0\n",
      "2867 424 202 3075\n",
      "666 148 84 744\n"
     ]
    },
    {
     "data": {
      "text/plain": [
       "(0.8587088915956151, 0.8651162790697674)"
      ]
     },
     "execution_count": 58,
     "metadata": {},
     "output_type": "execute_result"
    }
   ],
   "source": [
    "dt_model(data_dur)"
   ]
  },
  {
   "cell_type": "code",
   "execution_count": null,
   "id": "cd1cbdc1",
   "metadata": {},
   "outputs": [],
   "source": []
  }
 ],
 "metadata": {
  "kernelspec": {
   "display_name": "Python 3",
   "language": "python",
   "name": "python3"
  },
  "language_info": {
   "codemirror_mode": {
    "name": "ipython",
    "version": 3
   },
   "file_extension": ".py",
   "mimetype": "text/x-python",
   "name": "python",
   "nbconvert_exporter": "python",
   "pygments_lexer": "ipython3",
   "version": "3.9.6"
  }
 },
 "nbformat": 4,
 "nbformat_minor": 5
}
